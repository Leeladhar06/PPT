{
 "cells": [
  {
   "cell_type": "code",
   "execution_count": 5,
   "id": "aa52553e",
   "metadata": {},
   "outputs": [
    {
     "name": "stdout",
     "output_type": "stream",
     "text": [
      "This is anagram\n"
     ]
    }
   ],
   "source": [
    "#Write a Python program to check if a given string is an anagram.\n",
    "str1=\"Lalit\"\n",
    "str2=\"Talil\"\n",
    "low1=str1.lower()\n",
    "low2=str2.lower()\n",
    "#Convert the strings to lists , sort them and join back into strings\n",
    "srt1 = ''.join(sorted(low1))\n",
    "srt2 = ''.join(sorted(low2))\n",
    "if srt1==srt2:\n",
    "    print(\"This is anagram\")\n",
    "else:\n",
    "    print(\"this is not a anagram\")"
   ]
  },
  {
   "cell_type": "code",
   "execution_count": 9,
   "id": "66e55c90",
   "metadata": {},
   "outputs": [
    {
     "name": "stdout",
     "output_type": "stream",
     "text": [
      "Minimum value--> 9\n",
      "Maximum value--> 9999\n"
     ]
    }
   ],
   "source": [
    "#Write a Python program to find the maximum and minimum values in a dictionary.\n",
    "\n",
    "my_input = {'x': 9, 'y': 99, 'z': 999, 'a': 9999}\n",
    "values = list(my_input.values())\n",
    "min_value = min(values)\n",
    "max_value = max(values)\n",
    "print(\"Minimum value-->\", min_value)\n",
    "print(\"Maximum value-->\", max_value)\n"
   ]
  },
  {
   "cell_type": "code",
   "execution_count": 12,
   "id": "ebaafc5e",
   "metadata": {},
   "outputs": [
    {
     "name": "stdout",
     "output_type": "stream",
     "text": [
      "The avg of given list is: 5.4\n"
     ]
    }
   ],
   "source": [
    "#Write a Python program to find the average of a list of numbers.\n",
    "\n",
    "list_input=(5,4,5,6,7)\n",
    "list_sum=sum(list_input)\n",
    "list_len=len(list_input)\n",
    "list_avg=list_sum/list_len\n",
    "print(\"The avg of given list is:\",list_avg)"
   ]
  },
  {
   "cell_type": "code",
   "execution_count": 31,
   "id": "e3370eb6",
   "metadata": {},
   "outputs": [
    {
     "name": "stdout",
     "output_type": "stream",
     "text": [
      "String with vowels removed: Hll, Wrld!\n"
     ]
    }
   ],
   "source": [
    "#Write a Python program to remove all vowels from a string.\n",
    "\n",
    "def remove_vowels(minput):\n",
    "    vowels = 'aeiouAEIOU'\n",
    "    for vowel in vowels:\n",
    "        minput = minput.replace(vowel, '')\n",
    "    print(\"String with vowels removed:\", minput)\n",
    "\n",
    "my_input = \"Hello, World!\"\n",
    "remove_vowels(my_input)\n"
   ]
  },
  {
   "cell_type": "code",
   "execution_count": 15,
   "id": "4d51c2ba",
   "metadata": {},
   "outputs": [
    {
     "name": "stdout",
     "output_type": "stream",
     "text": [
      "Factorial is 120\n"
     ]
    }
   ],
   "source": [
    "#Write a Python function to calculate the factorial of a number using recursion.\n",
    "\n",
    "def fact(n):\n",
    "    if n == 0:\n",
    "        return 1\n",
    "    else:\n",
    "        return n * fact(n - 1)\n",
    "\n",
    "num = 5\n",
    "factorial = fact(num)\n",
    "print(\"Factorial is\", factorial)"
   ]
  },
  {
   "cell_type": "code",
   "execution_count": 17,
   "id": "3d5509b5",
   "metadata": {},
   "outputs": [
    {
     "name": "stdout",
     "output_type": "stream",
     "text": [
      "GCD is 12\n"
     ]
    }
   ],
   "source": [
    "#Write a Python program to find the GCD (Greatest Common Divisor) of two numbers.\n",
    "\n",
    "def gcd(x, y):\n",
    "    while y != 0:\n",
    "        x, y = y, x % y\n",
    "    return x\n",
    "\n",
    "num1 = 36\n",
    "num2 = 48\n",
    "result = gcd(num1, num2)\n",
    "print(\"GCD is\", result)"
   ]
  },
  {
   "cell_type": "code",
   "execution_count": 2,
   "id": "9157c191",
   "metadata": {},
   "outputs": [
    {
     "name": "stdout",
     "output_type": "stream",
     "text": [
      "Second highesh element of the list is:  7\n"
     ]
    }
   ],
   "source": [
    "# Write a Python program to find the second-largest element in a list.\n",
    "\n",
    "\n",
    "\n",
    "my_list = [5, 2, 9, 1, 7]\n",
    "sorted_list = sorted(my_list)\n",
    "length_list=len(my_list)-2\n",
    "print(\"Second highesh element of the list is: \",sorted_list[length_list])"
   ]
  },
  {
   "cell_type": "code",
   "execution_count": null,
   "id": "9cbb5381",
   "metadata": {},
   "outputs": [],
   "source": []
  }
 ],
 "metadata": {
  "kernelspec": {
   "display_name": "Python 3",
   "language": "python",
   "name": "python3"
  },
  "language_info": {
   "codemirror_mode": {
    "name": "ipython",
    "version": 3
   },
   "file_extension": ".py",
   "mimetype": "text/x-python",
   "name": "python",
   "nbconvert_exporter": "python",
   "pygments_lexer": "ipython3",
   "version": "3.6.15"
  }
 },
 "nbformat": 4,
 "nbformat_minor": 5
}
